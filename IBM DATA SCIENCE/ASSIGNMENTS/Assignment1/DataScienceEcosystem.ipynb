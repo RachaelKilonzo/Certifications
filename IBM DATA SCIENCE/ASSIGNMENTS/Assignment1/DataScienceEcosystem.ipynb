{
 "cells": [
  {
   "cell_type": "markdown",
   "id": "cd10a998-d6ea-449c-8073-c7bbef28f41a",
   "metadata": {},
   "source": [
    "# Data Science Tools and Ecosystem"
   ]
  },
  {
   "cell_type": "markdown",
   "id": "b5bf1ca7-7e38-43f2-ba2a-994b85aecfb7",
   "metadata": {},
   "source": [
    "In this notebook, Data Science Tools and Ecosystem are summarized."
   ]
  },
  {
   "cell_type": "markdown",
   "id": "b7f4e211-6541-4529-8e08-4b8732693b9e",
   "metadata": {},
   "source": [
    "Some of the popular languages that Data Scientists use are:\n",
    "\n",
    "                1. R\n",
    "                2. Python\n",
    "                3. Julia\n",
    "                4. Scala\n",
    "                5. SQL (Structured Query Language)"
   ]
  },
  {
   "cell_type": "markdown",
   "id": "827f0e29-3c9b-4986-a5bb-06f78420366a",
   "metadata": {},
   "source": [
    "Some of the commonly used libraries used by Data Scientists include:\n",
    "\n",
    "                1. TensorFlow                          \n",
    "                2. NumPy                               \n",
    "                3. SciPy                               \n",
    "                4. Pandas                             \n",
    "                5. Matplotlib \n",
    "                6. Keras\n",
    "                7. SciKit-Learn\n",
    "                8. PyTorch\n",
    "                9. BeautifulSoup\n",
    "                10. Pipenv                                               "
   ]
  },
  {
   "cell_type": "markdown",
   "id": "d61572b0-c90a-4b84-9193-6c3ae8e4e2d9",
   "metadata": {},
   "source": [
    "| Data Science Tools |\n",
    "|--------------------|\n",
    "| Jupyter Notebooks |\n",
    "| JupyterLab|\n",
    "| R Studio |\n",
    "| Apache Zeppelin |\n",
    "| Spyder |"
   ]
  },
  {
   "cell_type": "markdown",
   "id": "d9195533-53e6-48a6-b31c-9281f450e7f7",
   "metadata": {},
   "source": [
    "Below are a few examples of evaluating arithmetic expressions in Python"
   ]
  },
  {
   "cell_type": "code",
   "execution_count": 1,
   "id": "822fbce1-5488-41b8-8c09-c8863b25fb01",
   "metadata": {},
   "outputs": [
    {
     "data": {
      "text/plain": [
       "17"
      ]
     },
     "execution_count": 1,
     "metadata": {},
     "output_type": "execute_result"
    }
   ],
   "source": [
    "# This a simple arithmetic expression to mutiply then add integers\n",
    "\n",
    "(3*4)+5"
   ]
  },
  {
   "cell_type": "code",
   "execution_count": 2,
   "id": "b9631db3-36c1-418f-8027-f8579665a593",
   "metadata": {},
   "outputs": [
    {
     "name": "stdout",
     "output_type": "stream",
     "text": [
      "200 minutes is equivalent to: 3.33 hours\n"
     ]
    }
   ],
   "source": [
    "# This will convert 200 minutes to hours by diving by 60 \n",
    "\n",
    "print(\"200 minutes is equivalent to:\", round(200/60, 2), \"hours\" )"
   ]
  },
  {
   "cell_type": "markdown",
   "id": "896a02f1-720e-4d90-b4c8-8f56dc455fe1",
   "metadata": {},
   "source": [
    "__Objectives :__ \n",
    "- List popular languages for Data Science\n",
    "- List common libraries used by Data Scientist\n",
    "- Data Science tools : Development environment open source tools\n",
    "- Arithmetic expression evaluatiion\n",
    "- Sharing the .ipynb notebook through Github"
   ]
  },
  {
   "cell_type": "markdown",
   "id": "027a33dd-7fb1-45ac-8f7b-5c159f6c11f8",
   "metadata": {},
   "source": [
    "## Author\n",
    "Rachael Kilonzo"
   ]
  },
  {
   "cell_type": "code",
   "execution_count": null,
   "id": "fecbd0d5-6d60-4de4-94b6-37273beb02c4",
   "metadata": {},
   "outputs": [],
   "source": []
  }
 ],
 "metadata": {
  "kernelspec": {
   "display_name": "Python 3 (ipykernel)",
   "language": "python",
   "name": "python3"
  },
  "language_info": {
   "codemirror_mode": {
    "name": "ipython",
    "version": 3
   },
   "file_extension": ".py",
   "mimetype": "text/x-python",
   "name": "python",
   "nbconvert_exporter": "python",
   "pygments_lexer": "ipython3",
   "version": "3.11.7"
  }
 },
 "nbformat": 4,
 "nbformat_minor": 5
}
